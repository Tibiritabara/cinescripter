{
 "cells": [
  {
   "cell_type": "markdown",
   "metadata": {},
   "source": [
    "# Load data into Weaviate"
   ]
  },
  {
   "cell_type": "markdown",
   "metadata": {},
   "source": [
    "## Load dependencies"
   ]
  },
  {
   "cell_type": "code",
   "execution_count": 1,
   "metadata": {},
   "outputs": [],
   "source": [
    "# Load the modules in the src folder\n",
    "import sys\n",
    "sys.path.append('../src/')"
   ]
  },
  {
   "cell_type": "code",
   "execution_count": 13,
   "metadata": {},
   "outputs": [],
   "source": [
    "import os\n",
    "import weaviate\n",
    "from weaviate.util import generate_uuid5\n",
    "import gdown\n",
    "import pandas as pd\n",
    "from utils.common import SettingsLoader\n",
    "import json\n",
    "from tqdm import tqdm\n",
    "import numpy as np"
   ]
  },
  {
   "cell_type": "code",
   "execution_count": 3,
   "metadata": {},
   "outputs": [],
   "source": [
    "# Load the weaviate app settings\n",
    "APP_NAME=\"WEAVIATE\"\n",
    "DATA_PATH = \"../data/\"\n",
    "options = SettingsLoader.load(\n",
    "    APP_NAME,\n",
    "    {},\n",
    ")"
   ]
  },
  {
   "cell_type": "code",
   "execution_count": 4,
   "metadata": {},
   "outputs": [],
   "source": [
    "# Establish a connection with Weaviate\n",
    "client = weaviate.Client(\n",
    "    url=options.get(\"url\"),\n",
    "    auth_client_secret=weaviate.AuthApiKey(\n",
    "        api_key=options.get(\"api_key\")\n",
    "    ),\n",
    ")"
   ]
  },
  {
   "cell_type": "markdown",
   "metadata": {},
   "source": [
    "## Download and load data"
   ]
  },
  {
   "cell_type": "code",
   "execution_count": null,
   "metadata": {},
   "outputs": [],
   "source": [
    "\n",
    "# Download source data\n",
    "gdown.download_folder(\n",
    "    \"https://drive.google.com/drive/folders/1ic2kX1Vd0xUfBtmbwqXLIAyzBhvSHg7f?usp=drive_link\", \n",
    "    output=DATA_PATH,\n",
    "    quiet=False,\n",
    ")"
   ]
  },
  {
   "cell_type": "code",
   "execution_count": 5,
   "metadata": {},
   "outputs": [
    {
     "data": {
      "text/plain": [
       "62726"
      ]
     },
     "execution_count": 5,
     "metadata": {},
     "output_type": "execute_result"
    }
   ],
   "source": [
    "messages_df = pd.read_csv(os.path.join(DATA_PATH, \"./Vector DB & LLM Hackathon/messages.csv\"))\n",
    "messages_df.__Text = messages_df.__Text.astype(str)\n",
    "message_embeddings_df = pd.read_csv(os.path.join(DATA_PATH, \"./Vector DB & LLM Hackathon/messages-embeddings-ada-002.csv\"))\n",
    "len(message_embeddings_df)"
   ]
  },
  {
   "cell_type": "code",
   "execution_count": 6,
   "metadata": {},
   "outputs": [
    {
     "data": {
      "text/plain": [
       "9719"
      ]
     },
     "execution_count": 6,
     "metadata": {},
     "output_type": "execute_result"
    }
   ],
   "source": [
    "chats_df = pd.read_csv(os.path.join(DATA_PATH, \"./Vector DB & LLM Hackathon/chats.csv\"))\n",
    "chats_embeddings_df = pd.read_csv(os.path.join(DATA_PATH, \"./Vector DB & LLM Hackathon/chats-embeddings-ada-002.csv\"))\n",
    "len(chats_df.thread_id.unique())"
   ]
  },
  {
   "cell_type": "code",
   "execution_count": 7,
   "metadata": {},
   "outputs": [],
   "source": [
    "# Get your embeddings data together.\n",
    "# Create a temp index of the chats\n",
    "\n",
    "def join_data_embeddings(df, df_embeddings, df_index, df_embeddings_index, df_text_name):\n",
    "# Link the chats and embeddings together\n",
    "  embeddings = []\n",
    "  VECTOR_SIZE = None\n",
    "  COUNTER = 0\n",
    "  for _, row in tqdm(df_embeddings.iterrows(), desc=\"Collecting chats and embeddings\"):\n",
    "    embedding = json.loads(row['embedding'])\n",
    "    text = df[df[df_index] == row[df_embeddings_index]][df_text_name]\n",
    "    text = \"\\n\".join(text.values)\n",
    "    embeddings.append({\n",
    "      \"thread_id\": row[df_embeddings_index], \n",
    "      \"embedding\":  embedding, \n",
    "      \"chat_text\": text,\n",
    "    })\n",
    "    \n",
    "    if not VECTOR_SIZE:\n",
    "      VECTOR_SIZE = len(embedding)\n",
    "    else:\n",
    "      assert VECTOR_SIZE==len(embedding)\n",
    "    \n",
    "  return embeddings"
   ]
  },
  {
   "cell_type": "code",
   "execution_count": 8,
   "metadata": {},
   "outputs": [
    {
     "name": "stderr",
     "output_type": "stream",
     "text": [
      "Collecting chats and embeddings: 9713it [00:09, 1018.29it/s]\n"
     ]
    }
   ],
   "source": [
    "embeddings_chats = join_data_embeddings(chats_df, chats_embeddings_df, \"thread_id\", \"thread_id\", \"chat_text\")"
   ]
  },
  {
   "cell_type": "code",
   "execution_count": 9,
   "metadata": {},
   "outputs": [
    {
     "name": "stderr",
     "output_type": "stream",
     "text": [
      "Collecting chats and embeddings: 62726it [03:30, 298.45it/s]\n"
     ]
    }
   ],
   "source": [
    "embeddings_messages = join_data_embeddings(messages_df, message_embeddings_df, \"Thread_Timstamp\", \"message_id\", \"__Text\")"
   ]
  },
  {
   "cell_type": "code",
   "execution_count": 10,
   "metadata": {},
   "outputs": [
    {
     "name": "stdout",
     "output_type": "stream",
     "text": [
      "9713 62726\n",
      "72439\n"
     ]
    }
   ],
   "source": [
    "print(len(embeddings_chats), len(embeddings_messages))\n",
    "concatenate_embeddings = embeddings_chats + embeddings_messages\n",
    "print(len(concatenate_embeddings))"
   ]
  },
  {
   "cell_type": "markdown",
   "metadata": {},
   "source": [
    "## Create vector database"
   ]
  },
  {
   "cell_type": "code",
   "execution_count": 12,
   "metadata": {},
   "outputs": [],
   "source": [
    "client.schema.delete_all()\n",
    "\n",
    "#Create a class object for our chat conversations:\n",
    "class_obj = {\n",
    "    \"class\": \"Message\",\n",
    "    \"description\": \"MLOps Community Messages\",\n",
    "    \"vectorizer\": \"none\",\n",
    "    \"properties\": [\n",
    "        {\n",
    "            \"name\": \"messages\",\n",
    "            \"dataType\": [\"text\"],\n",
    "            \"description\": \"Text of Messages\",\n",
    "        },\n",
    "    ]\n",
    "}\n",
    "client.schema.create_class(class_obj)"
   ]
  },
  {
   "cell_type": "code",
   "execution_count": 14,
   "metadata": {},
   "outputs": [
    {
     "name": "stderr",
     "output_type": "stream",
     "text": [
      "Importing conversations: 100%|██████████| 72439/72439 [01:50<00:00, 656.86it/s]\n"
     ]
    }
   ],
   "source": [
    "# bulk insert data\n",
    "\n",
    "with client.batch(\n",
    "    batch_size=100\n",
    ") as batch:\n",
    "    # Batch import all conversations\n",
    "    for row in tqdm(concatenate_embeddings, desc=\"Importing conversations\"):\n",
    "        properties = {\n",
    "            \"message\": row['chat_text'],\n",
    "        }\n",
    "\n",
    "        client.batch.add_data_object(\n",
    "            properties,\n",
    "            \"Message\",\n",
    "            vector=row[\"embedding\"],\n",
    "            uuid=generate_uuid5(row[\"chat_text\"])\n",
    "        )"
   ]
  },
  {
   "cell_type": "code",
   "execution_count": 13,
   "metadata": {},
   "outputs": [],
   "source": [
    "def search_index(embedding):\n",
    "  custom_vector = np.array(embedding).astype(np.float32)\n",
    "  response = (\n",
    "      client.query\n",
    "      .get(\"Conversations\", [\"thread_id\"])\n",
    "      .with_near_vector({\"vector\":custom_vector})\n",
    "      .with_limit(3)\n",
    "      .do()\n",
    "  )\n",
    "\n",
    "  return response[\"data\"][\"Get\"][\"Conversations\"]"
   ]
  },
  {
   "cell_type": "code",
   "execution_count": 14,
   "metadata": {},
   "outputs": [],
   "source": [
    "# test with an existing document, that that document is returned\n",
    "row = embeddings[2539]\n",
    "docs = search_index(row['embedding'])\n",
    "assert row['thread_id']==docs[0][\"thread_id\"], \"Document does not match\"\n"
   ]
  }
 ],
 "metadata": {
  "kernelspec": {
   "display_name": "hackathon-pvSELx4k",
   "language": "python",
   "name": "python3"
  },
  "language_info": {
   "codemirror_mode": {
    "name": "ipython",
    "version": 3
   },
   "file_extension": ".py",
   "mimetype": "text/x-python",
   "name": "python",
   "nbconvert_exporter": "python",
   "pygments_lexer": "ipython3",
   "version": "3.11.4"
  },
  "orig_nbformat": 4
 },
 "nbformat": 4,
 "nbformat_minor": 2
}
